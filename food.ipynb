{
 "cells": [
  {
   "cell_type": "markdown",
   "metadata": {},
   "source": [
    "add a block that will deal if ingredient is in singular or plural\n",
    "add a block that will count calories automatically for a journal of calories\n",
    "how to make creating objects through input?\n",
    "how to see all recipes?\n",
    "see recipes available for ingredients you have"
   ]
  },
  {
   "cell_type": "code",
   "execution_count": 33,
   "metadata": {},
   "outputs": [],
   "source": [
    "class Recipe:\n",
    "    all_recipes = []\n",
    "\n",
    "    def __init__(self, name):\n",
    "        self.name = name\n",
    "        self.ingredients = None\n",
    "        self.tag = None\n",
    "        Recipe.all_recipes.append(self)\n",
    "\n",
    "    def __str__(self):\n",
    "        return f\"{self.name} of {self.ingredients_needed}, maybe add {self.ingredients_optional} for {self.tags}\"\n",
    "\n",
    "    def add_ingredients(self, ingredients_needed, ingredients_opintonal):\n",
    "        self.ingredients_needed = ingredients_needed\n",
    "        self.ingredients_optional = ingredients_opintonal\n",
    "    \n",
    "    def add_tags(self, tags):\n",
    "        self.tags = tags"
   ]
  },
  {
   "cell_type": "code",
   "execution_count": 34,
   "metadata": {},
   "outputs": [
    {
     "name": "stdout",
     "output_type": "stream",
     "text": [
      "salad with avocado of tomatoes, avocado, maybe add pita for Dinner\n"
     ]
    }
   ],
   "source": [
    "salad = Recipe('salad with avocado')\n",
    "salad.add_ingredients('tomatoes, avocado', 'pita')\n",
    "salad.add_tags('Dinner')\n",
    "print(salad)"
   ]
  },
  {
   "cell_type": "code",
   "execution_count": 35,
   "metadata": {},
   "outputs": [
    {
     "name": "stdout",
     "output_type": "stream",
     "text": [
      "shakshuka of eggs, pepper, pasta, maybe add None for Lunch, Dinner\n"
     ]
    }
   ],
   "source": [
    "shakshuka = Recipe('shakshuka')\n",
    "shakshuka.add_ingredients('eggs, pepper, pasta', 'greenery')\n",
    "shakshuka.add_tags('Lunch, Dinner')\n",
    "print(shakshuka)"
   ]
  },
  {
   "cell_type": "code",
   "execution_count": null,
   "metadata": {},
   "outputs": [],
   "source": [
    "class Ingredient:\n",
    "    all_ingredients = []\n",
    "\n",
    "    def __init__(self, ingredient, type, calories, fat, carbs, protein):\n",
    "        self.ingredient = ingredient\n",
    "        self.type = type # per 1 item or 100 gramm\n",
    "        self.calories = calories\n",
    "        self.fat = fat\n",
    "        self.carbs = carbs\n",
    "        self.protein = protein\n",
    "        Ingredient.all_ingredients.append(self)\n",
    "\n",
    "    def __str__(self):\n",
    "        return f\"{self.ingredient}, fats: {self.fat}, carbohydrates: {self.carbohydrates}, protein: {self.protein}\""
   ]
  },
  {
   "cell_type": "code",
   "execution_count": null,
   "metadata": {},
   "outputs": [],
   "source": [
    "avocado = Ingredient('avocado', '1 item', 240, 22, 13, 3)\n",
    "egg = Ingredient('egg', '1 item', 63, 4, 0.3, 5.5)\n",
    "pepper = Ingredient('pepper', '1 item', 31, 0.36, 7, 1)\n",
    "cherry_tomatoe = Ingredient('cherry_tomatoe', '1 item', 6, 0.1, 1.3, 0.3)"
   ]
  }
 ],
 "metadata": {
  "kernelspec": {
   "display_name": "base",
   "language": "python",
   "name": "python3"
  },
  "language_info": {
   "codemirror_mode": {
    "name": "ipython",
    "version": 3
   },
   "file_extension": ".py",
   "mimetype": "text/x-python",
   "name": "python",
   "nbconvert_exporter": "python",
   "pygments_lexer": "ipython3",
   "version": "3.9.13"
  }
 },
 "nbformat": 4,
 "nbformat_minor": 2
}
