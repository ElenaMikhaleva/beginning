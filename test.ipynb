{
 "cells": [
  {
   "cell_type": "code",
   "execution_count": null,
   "metadata": {},
   "outputs": [],
   "source": [
    "#tasks https://contest.yandex.ru/contest/27393/enter/?retPage="
   ]
  },
  {
   "cell_type": "code",
   "execution_count": 9,
   "metadata": {},
   "outputs": [
    {
     "name": "stdout",
     "output_type": "stream",
     "text": [
      "10 10 freeze\n",
      "10\n"
     ]
    }
   ],
   "source": [
    "#Task 1 Conditioner\n",
    "s = list(map(int, input().split())) #we get the temperatures\n",
    "troom = int(s[0])\n",
    "tcond = int(s[1])\n",
    "regime = input()\n",
    "print(troom, tcond, regime)\n",
    "\n",
    "if regime == 'auto':\n",
    "    print (tcond)\n",
    "elif (troom>tcond)and(regime=='freeze') or (troom<tcond)and(regime=='freeze'):\n",
    "    print (min(troom, tcond))\n",
    "elif (troom<tcond)and(regime=='heat') or (troom<tcond)and(regime=='heat'):\n",
    "    print(max(troom, tcond))\n",
    "else:\n",
    "    print(troom)"
   ]
  },
  {
   "cell_type": "code",
   "execution_count": 14,
   "metadata": {},
   "outputs": [
    {
     "name": "stdout",
     "output_type": "stream",
     "text": [
      "NO\n"
     ]
    }
   ],
   "source": [
    "#Task 2 Triangle\n",
    "num1 = int(input())\n",
    "num2 = int(input())\n",
    "num3 = int(input())\n",
    "list = sorted([num1, num2, num3])\n",
    "num1=list[0]\n",
    "num2=list[1]\n",
    "num3=list[2]\n",
    "\n",
    "if num1>0 and num2>0 and num3>0:\n",
    "    if num1+num2>num3:\n",
    "        print ('YES')\n",
    "    else:\n",
    "        print ('NO')\n",
    "else:\n",
    "    print ('NO')"
   ]
  },
  {
   "cell_type": "code",
   "execution_count": 32,
   "metadata": {},
   "outputs": [
    {
     "name": "stdout",
     "output_type": "stream",
     "text": [
      "+78(23)-8-8\n"
     ]
    },
    {
     "ename": "SyntaxError",
     "evalue": "'return' outside function (4177549184.py, line 19)",
     "output_type": "error",
     "traceback": [
      "\u001b[1;36m  File \u001b[1;32m\"C:\\Users\\Елена\\AppData\\Local\\Temp\\ipykernel_21972\\4177549184.py\"\u001b[1;36m, line \u001b[1;32m19\u001b[0m\n\u001b[1;33m    return simplifier(i)\u001b[0m\n\u001b[1;37m    ^\u001b[0m\n\u001b[1;31mSyntaxError\u001b[0m\u001b[1;31m:\u001b[0m 'return' outside function\n"
     ]
    }
   ],
   "source": [
    "#Task 3 Phone numbers\n",
    "import re\n",
    "\n",
    "phone = input() #needed phone\n",
    "phone1 = input() #phone in a book\n",
    "phone2 = input() #phone in a book\n",
    "phone3 = input() #phone in a book\n",
    "print(phone)\n",
    "\n",
    "def simplifier(num):\n",
    "    num = re.split('-|\\(|\\)',num)\n",
    "    num = ''.join(num)\n",
    "    if num[0]=='+':\n",
    "        num = num[1:]\n",
    "    return num\n",
    "\n",
    "if len(phone)>0 and len(phone1)>0 and len(phone2)>0 and len(phone3)>0:\n",
    "    for i in [phone,phone1,phone2,phone3]:\n",
    "        i = simplifier(i)\n",
    "    print(phone)\n",
    "else:\n",
    "    print('NO\\nNO\\nNO')\n"
   ]
  },
  {
   "cell_type": "code",
   "execution_count": null,
   "metadata": {},
   "outputs": [],
   "source": [
    "tests:\n",
    "if inputs equal\n",
    "if they're both negative +\n",
    "if input is empty"
   ]
  }
 ],
 "metadata": {
  "kernelspec": {
   "display_name": "base",
   "language": "python",
   "name": "python3"
  },
  "language_info": {
   "codemirror_mode": {
    "name": "ipython",
    "version": 3
   },
   "file_extension": ".py",
   "mimetype": "text/x-python",
   "name": "python",
   "nbconvert_exporter": "python",
   "pygments_lexer": "ipython3",
   "version": "3.9.13"
  },
  "orig_nbformat": 4,
  "vscode": {
   "interpreter": {
    "hash": "4f8173ae9e0c3f2327c2a631a4cdf3976fd8282663a0e204d149563f88cc9076"
   }
  }
 },
 "nbformat": 4,
 "nbformat_minor": 2
}
