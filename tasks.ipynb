{
 "cells": [
  {
   "cell_type": "code",
   "execution_count": 23,
   "metadata": {},
   "outputs": [
    {
     "name": "stdout",
     "output_type": "stream",
     "text": [
      "a = 27.95 b = 30.7 c = -49.8\n",
      "-1.99 0.89\n",
      "a = 28.96 b = -44.09 c = -83.47\n",
      "-1.1 2.62\n",
      "a = -40.64 b = 52.58 c = 10.45\n",
      "-0.18 1.47\n",
      "a = -71.03 b = 85.48 c = -44.67\n",
      "No solution\n",
      "a = -80.11 b = 72.18 c = 63.22\n",
      "-0.55 1.45\n",
      "a = -6.83 b = -57.49 c = 26.22\n",
      "-8.85 0.43\n",
      "a = -82.04 b = -40.18 c = -47.74\n",
      "No solution\n",
      "a = -27.05 b = -30.78 c = 84.43\n",
      "-2.43 1.29\n",
      "a = -55.19 b = -15.59 c = 86.17\n",
      "-1.4 1.12\n",
      "a = 57.08 b = -21.62 c = -59.1\n",
      "-0.85 1.22\n",
      "a = -62.86 b = -98.0 c = 35.54\n",
      "-1.86 0.3\n",
      "a = -56.51 b = 54.68 c = 75.78\n",
      "-0.77 1.74\n",
      "a = 53.24 b = 94.69 c = 97.78\n",
      "No solution\n",
      "a = -98.29 b = -4.02 c = -40.03\n",
      "No solution\n",
      "a = 60.06 b = 0.54 c = 82.35\n",
      "No solution\n",
      "a = 47.29 b = 60.85 c = -41.98\n",
      "-1.78 0.5\n",
      "a = -64.18 b = 95.92 c = 79.29\n",
      "-0.59 2.09\n",
      "a = -40.38 b = 81.13 c = -69.93\n",
      "No solution\n",
      "a = -47.17 b = 76.37 c = -66.99\n",
      "No solution\n",
      "a = -89.24 b = 93.79 c = 33.22\n",
      "-0.28 1.33\n",
      "a = 73.44 b = 36.21 c = -93.01\n",
      "-1.4 0.91\n",
      "a = 60.88 b = -73.22 c = -63.66\n",
      "-0.58 1.79\n",
      "a = -9.25 b = 97.05 c = 23.4\n",
      "-0.24 10.73\n",
      "a = 22.1 b = -37.53 c = -38.77\n",
      "-0.72 2.42\n",
      "a = -45.47 b = -4.56 c = -87.65\n",
      "No solution\n",
      "a = -76.09 b = -85.72 c = -98.52\n",
      "No solution\n",
      "a = 47.73 b = 64.12 c = 2.14\n",
      "-1.31 -0.03\n",
      "a = 65.54 b = 1.74 c = 96.33\n",
      "No solution\n",
      "a = 76.96 b = 99.35 c = 76.27\n",
      "No solution\n",
      "a = 98.59 b = 30.98 c = -82.04\n",
      "-1.08 0.77\n"
     ]
    }
   ],
   "source": [
    "import random\n",
    "\n",
    "for _ in range(30):\n",
    "    # Generate random coefficients a, b, and c\n",
    "    a = round(random.uniform(-100, 100), 2)\n",
    "    b = round(random.uniform(-100, 100), 2)\n",
    "    c = round(random.uniform(-100, 100), 2)\n",
    "\n",
    "    print('a =', a, 'b =', b, 'c =', c)\n",
    "\n",
    "    d = b ** 2 - 4 * a * c\n",
    "    x1 = (-b + d ** 0.5) / (2 * a)\n",
    "    x2 = (-b - d ** 0.5) / (2 * a)\n",
    "\n",
    "    if a == 0 and b == 0:\n",
    "        print('Infinite solutions')\n",
    "    elif d < 0:\n",
    "        print('No solution')\n",
    "    elif d == 0:\n",
    "        print(round(x1, 2))\n",
    "    else:\n",
    "        print(*sorted([round(x1, 2), round(x2, 2)]))"
   ]
  },
  {
   "cell_type": "code",
   "execution_count": null,
   "metadata": {},
   "outputs": [],
   "source": []
  }
 ],
 "metadata": {
  "kernelspec": {
   "display_name": "base",
   "language": "python",
   "name": "python3"
  },
  "language_info": {
   "codemirror_mode": {
    "name": "ipython",
    "version": 3
   },
   "file_extension": ".py",
   "mimetype": "text/x-python",
   "name": "python",
   "nbconvert_exporter": "python",
   "pygments_lexer": "ipython3",
   "version": "3.9.13"
  }
 },
 "nbformat": 4,
 "nbformat_minor": 2
}
