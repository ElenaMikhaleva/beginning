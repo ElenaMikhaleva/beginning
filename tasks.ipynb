{
 "cells": [
  {
   "cell_type": "markdown",
   "metadata": {},
   "source": [
    "Корень зла - хендбук"
   ]
  },
  {
   "cell_type": "code",
   "execution_count": 41,
   "metadata": {},
   "outputs": [
    {
     "name": "stdout",
     "output_type": "stream",
     "text": [
      "a = 9.09 b = -64.84 c = 21.07\n",
      "0.34 6.79\n"
     ]
    }
   ],
   "source": [
    "import random\n",
    "\n",
    "# Generate random coefficients a, b, and c\n",
    "a = round(random.uniform(-100, 100), 2)\n",
    "b = round(random.uniform(-100, 100), 2)\n",
    "c = round(random.uniform(-100, 100), 2)\n",
    "d = b ** 2 - 4 * a * c\n",
    "\n",
    "print('a =', a, 'b =', b, 'c =', c)\n",
    "\n",
    "if a == 0:\n",
    "    if b == 0:\n",
    "        print('Infinite solutions')\n",
    "    else:\n",
    "        print(round((-c / b), 2))\n",
    "elif d < 0:\n",
    "    print('No solution')\n",
    "else:\n",
    "    x1 = (-b + d ** 0.5) / (2 * a)\n",
    "    x2 = (-b - d ** 0.5) / (2 * a)\n",
    "    if d == 0:\n",
    "        print(round(x1, 2))\n",
    "    else:\n",
    "        print(*sorted([round(x1, 2), round(x2, 2)]))"
   ]
  },
  {
   "cell_type": "markdown",
   "metadata": {},
   "source": [
    "F. НОД"
   ]
  },
  {
   "cell_type": "code",
   "execution_count": 34,
   "metadata": {},
   "outputs": [
    {
     "name": "stdout",
     "output_type": "stream",
     "text": [
      "1302.3\n"
     ]
    }
   ],
   "source": []
  },
  {
   "cell_type": "code",
   "execution_count": 28,
   "metadata": {},
   "outputs": [
    {
     "name": "stdout",
     "output_type": "stream",
     "text": [
      "['березка', 'березка', 'волк', 'елочка', 'зайка']\n"
     ]
    }
   ],
   "source": []
  }
 ],
 "metadata": {
  "kernelspec": {
   "display_name": "base",
   "language": "python",
   "name": "python3"
  },
  "language_info": {
   "codemirror_mode": {
    "name": "ipython",
    "version": 3
   },
   "file_extension": ".py",
   "mimetype": "text/x-python",
   "name": "python",
   "nbconvert_exporter": "python",
   "pygments_lexer": "ipython3",
   "version": "3.9.13"
  }
 },
 "nbformat": 4,
 "nbformat_minor": 2
}
