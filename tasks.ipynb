{
 "cells": [
  {
   "cell_type": "code",
   "execution_count": 31,
   "metadata": {},
   "outputs": [
    {
     "name": "stdout",
     "output_type": "stream",
     "text": [
      "NO\n"
     ]
    }
   ],
   "source": [
    "num = int(input()) # number of words\n",
    "words = []\n",
    "\n",
    "for i in range(0,num):\n",
    "    word = input().capitalize()\n",
    "    words.append(word)\n",
    "\n",
    "n = 0\n",
    "for i in words:\n",
    "    if i.startswith(('А', 'Б', 'В')):\n",
    "        n += 1\n",
    "\n",
    "if n == len(words):\n",
    "    print('YES')\n",
    "else:\n",
    "    print('NO')"
   ]
  },
  {
   "cell_type": "code",
   "execution_count": null,
   "metadata": {},
   "outputs": [],
   "source": [
    "# guess number\n",
    "# a player guesses number from 1 to 10\n",
    "import random\n",
    "\n",
    "num = random.randint(1, 10)\n",
    "\n",
    "guess = 0\n",
    "\n",
    "while guess != num:\n",
    "    guess = int(input('Your guess is: '))\n",
    "    if guess != num:\n",
    "        print('Your guess is {}, it\\'s wrong answer'.format(guess))\n",
    "    else:\n",
    "        print('You\\'re right! Answer is:', guess)"
   ]
  }
 ],
 "metadata": {
  "kernelspec": {
   "display_name": "base",
   "language": "python",
   "name": "python3"
  },
  "language_info": {
   "codemirror_mode": {
    "name": "ipython",
    "version": 3
   },
   "file_extension": ".py",
   "mimetype": "text/x-python",
   "name": "python",
   "nbconvert_exporter": "python",
   "pygments_lexer": "ipython3",
   "version": "3.9.13"
  }
 },
 "nbformat": 4,
 "nbformat_minor": 2
}
