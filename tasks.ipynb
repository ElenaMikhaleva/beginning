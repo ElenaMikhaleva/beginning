{
 "cells": [
  {
   "cell_type": "code",
   "execution_count": 74,
   "metadata": {},
   "outputs": [
    {
     "name": "stdout",
     "output_type": "stream",
     "text": [
      "24 8\n"
     ]
    }
   ],
   "source": [
    "n, m = int(input()), int(input())\n",
    "k1, k2 = int(input()), int(input())\n",
    "\n",
    "print(int(n * (k2 - m) / (k2 - k1)), int(n * (m - k1) / (k2 - k1)))"
   ]
  },
  {
   "cell_type": "code",
   "execution_count": 69,
   "metadata": {},
   "outputs": [
    {
     "name": "stdout",
     "output_type": "stream",
     "text": [
      "4\n",
      "4\n",
      "YES\n"
     ]
    }
   ],
   "source": [
    "num = input()\n",
    "print(int(num[0]) + int(num[2]))\n",
    "print(int(num[1]) * 2)\n",
    "\n",
    "if int(num[0]) + int(num[2]) == int(num[1]) * 2:\n",
    "    print('YES')\n",
    "else:\n",
    "    print('NO')"
   ]
  },
  {
   "cell_type": "code",
   "execution_count": null,
   "metadata": {},
   "outputs": [],
   "source": []
  }
 ],
 "metadata": {
  "kernelspec": {
   "display_name": "base",
   "language": "python",
   "name": "python3"
  },
  "language_info": {
   "codemirror_mode": {
    "name": "ipython",
    "version": 3
   },
   "file_extension": ".py",
   "mimetype": "text/x-python",
   "name": "python",
   "nbconvert_exporter": "python",
   "pygments_lexer": "ipython3",
   "version": "3.9.13"
  }
 },
 "nbformat": 4,
 "nbformat_minor": 2
}
