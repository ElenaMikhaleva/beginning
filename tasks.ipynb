{
 "cells": [
  {
   "cell_type": "code",
   "execution_count": 7,
   "metadata": {},
   "outputs": [],
   "source": [
    "import random"
   ]
  },
  {
   "cell_type": "code",
   "execution_count": 22,
   "metadata": {},
   "outputs": [
    {
     "name": "stdout",
     "output_type": "stream",
     "text": [
      "358\n",
      "35 83\n"
     ]
    }
   ],
   "source": [
    "# num = input()\n",
    "\n",
    "num = str(random.randint(100, 999))\n",
    "print(num)\n",
    "\n",
    "if num[1] == '0':\n",
    "    numbers = sorted([int(num[0] + num[1]), int(num[0] + num[2]), int(num[2] + num[0]), int(num[2] + num[1])])\n",
    "    print(min(numbers), max(numbers))\n",
    "elif num[2] == '0':\n",
    "    numbers = sorted([int(num[0] + num[1]), int(num[0] + num[2]), int(num[1] + num[2]), int(num[1] + num[0]), ])\n",
    "    print(min(numbers), max(numbers))\n",
    "else:\n",
    "    numbers = sorted([int(num[0] + num[1]), int(num[0] + num[2]), int(num[1] + num[2]), int(num[1] + num[0])])\n",
    "    if int(num[2] + num[0]) > numbers[-1] or int(num[2] + num[0]) < numbers[0]:\n",
    "        numbers.append(int(num[2] + num[0]))\n",
    "    if int(num[2] + num[1]) > numbers[-1] or int(num[2] + num[1]) < numbers[0]:\n",
    "        numbers.append(int(num[2] + num[1]))\n",
    "    print(min(numbers), max(numbers))"
   ]
  }
 ],
 "metadata": {
  "kernelspec": {
   "display_name": "base",
   "language": "python",
   "name": "python3"
  },
  "language_info": {
   "codemirror_mode": {
    "name": "ipython",
    "version": 3
   },
   "file_extension": ".py",
   "mimetype": "text/x-python",
   "name": "python",
   "nbconvert_exporter": "python",
   "pygments_lexer": "ipython3",
   "version": "3.9.13"
  }
 },
 "nbformat": 4,
 "nbformat_minor": 2
}
