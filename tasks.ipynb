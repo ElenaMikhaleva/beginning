{
 "cells": [
  {
   "cell_type": "code",
   "execution_count": null,
   "metadata": {},
   "outputs": [],
   "source": [
    "general_weight = int(input())\n",
    "general_price = int(input())\n",
    "price1 = int(input())\n",
    "price2 = int(input())\n",
    "\n",
    "for i in range(general_weight // 2):\n",
    "    weight1 = general_weight // 2 + i\n",
    "    weight2 = general_weight // 2 - i\n",
    "    result = weight1 * price1 + weight2 * price2\n",
    "    print(weight1, weight2, result)\n",
    "    if result == general_price * general_weight:\n",
    "        break\n",
    "    else:\n",
    "        result = weight2 * price1 + weight1 * price2\n",
    "\n",
    "print(max(weight1, weight2), min(weight1, weight2))"
   ]
  },
  {
   "cell_type": "code",
   "execution_count": 9,
   "metadata": {},
   "outputs": [
    {
     "name": "stdout",
     "output_type": "stream",
     "text": [
      "Толя\n"
     ]
    }
   ],
   "source": [
    "petya = int(input())\n",
    "vasya = int(input())\n",
    "tolya = int(input())\n",
    "\n",
    "if petya > vasya:\n",
    "    if petya > tolya:\n",
    "        print('Петя')\n",
    "    else:\n",
    "        print('Толя')\n",
    "elif vasya > petya:\n",
    "    if vasya > tolya:\n",
    "        print('Вася')\n",
    "    else:\n",
    "        print('Толя') "
   ]
  }
 ],
 "metadata": {
  "kernelspec": {
   "display_name": "base",
   "language": "python",
   "name": "python3"
  },
  "language_info": {
   "codemirror_mode": {
    "name": "ipython",
    "version": 3
   },
   "file_extension": ".py",
   "mimetype": "text/x-python",
   "name": "python",
   "nbconvert_exporter": "python",
   "pygments_lexer": "ipython3",
   "version": "3.9.13"
  }
 },
 "nbformat": 4,
 "nbformat_minor": 2
}
