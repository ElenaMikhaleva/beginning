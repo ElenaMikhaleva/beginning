{
 "cells": [
  {
   "cell_type": "code",
   "execution_count": null,
   "metadata": {},
   "outputs": [],
   "source": [
    "bot_name = \"Soph\"\n",
    "\n",
    "print(f\"Hello! My name is {bot_name}.\\nI was created in 2023.\")"
   ]
  }
 ],
 "metadata": {
  "language_info": {
   "name": "python"
  }
 },
 "nbformat": 4,
 "nbformat_minor": 2
}
