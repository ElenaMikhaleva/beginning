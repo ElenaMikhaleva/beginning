{
 "cells": [
  {
   "cell_type": "code",
   "execution_count": null,
   "metadata": {},
   "outputs": [],
   "source": [
    "#tasks https://contest.yandex.ru/contest/27393/enter/?retPage="
   ]
  },
  {
   "cell_type": "code",
   "execution_count": 9,
   "metadata": {},
   "outputs": [
    {
     "name": "stdout",
     "output_type": "stream",
     "text": [
      "10 10 freeze\n",
      "10\n"
     ]
    }
   ],
   "source": [
    "#Task A Conditioner\n",
    "s = list(map(int, input().split())) #we get the temperatures\n",
    "troom = int(s[0]) #temperature in the room now\n",
    "tcond = int(s[1]) #temperature we want to have\n",
    "regime = input() #regime of the condition\n",
    "print(troom, tcond, regime)\n",
    "\n",
    "if regime == 'auto': #what temperature will we get\n",
    "    print (tcond)\n",
    "elif (troom>tcond)and(regime=='freeze') or (troom<tcond)and(regime=='freeze'):\n",
    "    print (min(troom, tcond))\n",
    "elif (troom<tcond)and(regime=='heat') or (troom<tcond)and(regime=='heat'):\n",
    "    print(max(troom, tcond))\n",
    "else:\n",
    "    print(troom)"
   ]
  },
  {
   "cell_type": "code",
   "execution_count": 14,
   "metadata": {},
   "outputs": [
    {
     "name": "stdout",
     "output_type": "stream",
     "text": [
      "NO\n"
     ]
    }
   ],
   "source": [
    "#Task B Triangle\n",
    "num1 = int(input())\n",
    "num2 = int(input())\n",
    "num3 = int(input())\n",
    "list = sorted([num1, num2, num3]) #sides of the triangle\n",
    "num1=list[0]\n",
    "num2=list[1]\n",
    "num3=list[2]\n",
    "\n",
    "if num1>0 and num2>0 and num3>0: #check if the triangle can exist\n",
    "    if num1+num2>num3:\n",
    "        print ('YES')\n",
    "    else:\n",
    "        print ('NO')\n",
    "else:\n",
    "    print ('NO')"
   ]
  },
  {
   "cell_type": "code",
   "execution_count": 17,
   "metadata": {},
   "outputs": [
    {
     "name": "stdout",
     "output_type": "stream",
     "text": [
      "['+78047952807', '+78047952807', '+76147514928', '88047952807']\n",
      "['88047952807', '88047952807', '86147514928', '88047952807']\n",
      "YES\n",
      "YES\n"
     ]
    }
   ],
   "source": [
    "#Task C Phone numbers\n",
    "\n",
    "phone = input() #needed phone\n",
    "phone1 = input() #phone in a book\n",
    "phone2 = input() #phone in a book\n",
    "phone3 = input() #phone in a book\n",
    "\n",
    "phones = [phone,phone1,phone2,phone3]\n",
    "\n",
    "#make all the phones look the same\n",
    "for i in range(0, len(phones)):\n",
    "    phones[i] = phones[i].replace('-','').replace('(','').replace(')','').replace('+7','8')\n",
    "    if len(phones[i])==7:\n",
    "        phones[i] = '8495' + phones[i]\n",
    "    elif len(phones[i])<7:\n",
    "        print ('NO\\nNO\\nNO')\n",
    "\n",
    "#check if phone is equal to phone1/2/3\n",
    "for i in range(1,4):\n",
    "    if phones[0]==phones[i]:\n",
    "        print ('YES')\n",
    "    else:\n",
    "        print ('NO')"
   ]
  },
  {
   "cell_type": "code",
   "execution_count": 4,
   "metadata": {},
   "outputs": [
    {
     "name": "stdout",
     "output_type": "stream",
     "text": [
      "NO SOLUTION\n"
     ]
    }
   ],
   "source": [
    "#Task D Rooted equation\n",
    "\n",
    "#equation is sqrt(ax+b)=c, a,b,c given\n",
    "\n",
    "a = int(input()) \n",
    "b = int(input()) \n",
    "c = int(input()) \n",
    "\n",
    "#solve the equation\n",
    "if a==0:\n",
    "    if b==c**2:\n",
    "        print ('MANY SOLUTIONS')\n",
    "    else:\n",
    "        print ('NO SOLUTION')\n",
    "elif c<0:\n",
    "    print ('NO SOLUTION')\n",
    "else:\n",
    "    solution = (c**2 - b)//a\n",
    "    if solution<(-b/a):\n",
    "       print ('NO SOLUTION') \n",
    "    print (solution)"
   ]
  },
  {
   "cell_type": "code",
   "execution_count": null,
   "metadata": {},
   "outputs": [],
   "source": [
    "#Task E Ambulance"
   ]
  },
  {
   "cell_type": "code",
   "execution_count": null,
   "metadata": {},
   "outputs": [],
   "source": [
    "#Task F Laptops\n",
    "\n",
    "nums = list(map(int(input().split()))) #we get the sizes of the laptops\n",
    "laptop1 = [nums[0], nums[1]]\n",
    "laptop2 = [nums[2], nums[3]]\n",
    "\n",
    "# we need to get the appropriate size of the table with the least square"
   ]
  }
 ],
 "metadata": {
  "kernelspec": {
   "display_name": "base",
   "language": "python",
   "name": "python3"
  },
  "language_info": {
   "codemirror_mode": {
    "name": "ipython",
    "version": 3
   },
   "file_extension": ".py",
   "mimetype": "text/x-python",
   "name": "python",
   "nbconvert_exporter": "python",
   "pygments_lexer": "ipython3",
   "version": "3.9.13"
  },
  "orig_nbformat": 4,
  "vscode": {
   "interpreter": {
    "hash": "4f8173ae9e0c3f2327c2a631a4cdf3976fd8282663a0e204d149563f88cc9076"
   }
  }
 },
 "nbformat": 4,
 "nbformat_minor": 2
}
