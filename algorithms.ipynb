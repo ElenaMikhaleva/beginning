{
 "cells": [
  {
   "cell_type": "code",
   "execution_count": null,
   "metadata": {},
   "outputs": [],
   "source": [
    "#tasks https://contest.yandex.ru/contest/27393/enter/?retPage="
   ]
  },
  {
   "cell_type": "code",
   "execution_count": 9,
   "metadata": {},
   "outputs": [
    {
     "name": "stdout",
     "output_type": "stream",
     "text": [
      "10 10 freeze\n",
      "10\n"
     ]
    }
   ],
   "source": [
    "#Task A Conditioner\n",
    "s = list(map(int, input().split())) #we get the temperatures\n",
    "troom = int(s[0]) #temperature in the room now\n",
    "tcond = int(s[1]) #temperature we want to have\n",
    "regime = input() #regime of the condition\n",
    "print(troom, tcond, regime)\n",
    "\n",
    "if regime == 'auto': #what temperature will we get\n",
    "    print (tcond)\n",
    "elif (troom>tcond)and(regime=='freeze') or (troom<tcond)and(regime=='freeze'):\n",
    "    print (min(troom, tcond))\n",
    "elif (troom<tcond)and(regime=='heat') or (troom<tcond)and(regime=='heat'):\n",
    "    print(max(troom, tcond))\n",
    "else:\n",
    "    print(troom)"
   ]
  },
  {
   "cell_type": "code",
   "execution_count": 14,
   "metadata": {},
   "outputs": [
    {
     "name": "stdout",
     "output_type": "stream",
     "text": [
      "NO\n"
     ]
    }
   ],
   "source": [
    "#Task B Triangle\n",
    "num1 = int(input())\n",
    "num2 = int(input())\n",
    "num3 = int(input())\n",
    "list = sorted([num1, num2, num3]) #sides of the triangle\n",
    "num1=list[0]\n",
    "num2=list[1]\n",
    "num3=list[2]\n",
    "\n",
    "if num1>0 and num2>0 and num3>0: #check if the triangle can exist\n",
    "    if num1+num2>num3:\n",
    "        print ('YES')\n",
    "    else:\n",
    "        print ('NO')\n",
    "else:\n",
    "    print ('NO')"
   ]
  },
  {
   "cell_type": "code",
   "execution_count": 17,
   "metadata": {},
   "outputs": [
    {
     "name": "stdout",
     "output_type": "stream",
     "text": [
      "['+78047952807', '+78047952807', '+76147514928', '88047952807']\n",
      "['88047952807', '88047952807', '86147514928', '88047952807']\n",
      "YES\n",
      "YES\n"
     ]
    }
   ],
   "source": [
    "#Task C Phone numbers\n",
    "\n",
    "phone = input() #needed phone\n",
    "phone1 = input() #phone in a book\n",
    "phone2 = input() #phone in a book\n",
    "phone3 = input() #phone in a book\n",
    "\n",
    "phones = [phone,phone1,phone2,phone3]\n",
    "\n",
    "#make all the phones look the same\n",
    "for i in range(0, len(phones)):\n",
    "    phones[i] = phones[i].replace('-','').replace('(','').replace(')','').replace('+7','8')\n",
    "    if len(phones[i])==7:\n",
    "        phones[i] = '8495' + phones[i]\n",
    "    elif len(phones[i])<7:\n",
    "        print ('NO\\nNO\\nNO')\n",
    "\n",
    "#check if phone is equal to phone1/2/3\n",
    "for i in range(1,4):\n",
    "    if phones[0]==phones[i]:\n",
    "        print ('YES')\n",
    "    else:\n",
    "        print ('NO')"
   ]
  },
  {
   "cell_type": "code",
   "execution_count": 4,
   "metadata": {},
   "outputs": [
    {
     "name": "stdout",
     "output_type": "stream",
     "text": [
      "NO SOLUTION\n"
     ]
    }
   ],
   "source": [
    "#Task D Rooted equation\n",
    "\n",
    "#equation is sqrt(ax+b)=c, a,b,c given\n",
    "import random\n",
    "\n",
    "a = int(input()) \n",
    "b = int(input()) \n",
    "c = int(input()) \n",
    "\n",
    "#solve the equation\n",
    "def slow(a,b,c)\n",
    "    if a==0:\n",
    "        if b==c**2:\n",
    "            print ('MANY SOLUTIONS')\n",
    "        else:\n",
    "            print ('NO SOLUTION')\n",
    "    elif c<0:\n",
    "        print ('NO SOLUTION')\n",
    "    else:\n",
    "        solution = (c**2 - b)//a\n",
    "        if solution<(-b/a):\n",
    "        print ('NO SOLUTION') \n",
    "        print (solution)\n",
    "\n",
    "def fast(a,b,c):\n",
    "    if \n",
    "\n",
    "#create test for checking\n",
    "maxrandval = 100\n",
    "while True: #change with Do while loop\n",
    "    randvals = [random.randit(1, maxrandval) for _ in range(3)]\n",
    "    slowans = slow(*randvals)\n",
    "    fastans = fast(*randvals)\n",
    "    print (*randvals)\n",
    "    if slowans == fastans:\n",
    "        print ('OK')\n",
    "    else:\n",
    "        print ('WA', fastans, slowans)\n",
    "        break"
   ]
  },
  {
   "cell_type": "code",
   "execution_count": 5,
   "metadata": {},
   "outputs": [
    {
     "name": "stdout",
     "output_type": "stream",
     "text": [
      "(-1, -1)\n"
     ]
    },
    {
     "data": {
      "text/plain": [
       "\"\\n#create test for checking\\nmaxrandval = 10\\nwhile True:\\n    randvals = [random.randint(1, maxrandval) for _ in range(5)]\\n    slowans = slow(*randvals)\\n    fastans = fast(*randvals)\\n    print (*randvals)\\n    if slowans == fastans:\\n        print ('OK')\\n    else:\\n        print ('WA', fastans, slowans)\\n        break\\n\""
      ]
     },
     "execution_count": 5,
     "metadata": {},
     "output_type": "execute_result"
    }
   ],
   "source": [
    "#Task E Ambulance, decision by tutor\n",
    "import random\n",
    "\n",
    "def getentranceandfloor(flatno, flatsonfloor, floors):\n",
    "    floorsbefore = (flatno - 1) // flatsonfloor\n",
    "    entrance = floorsbefore // floors + 1\n",
    "    floor = floorsbefore % floors + 1\n",
    "    return entrance, floor\n",
    "\n",
    "def check(k1, m, k2, p2, n2, flatsonfloor):\n",
    "    entrance2, floor2 = getentranceandfloor(k2, flatsonfloor, m)\n",
    "    if entrance2 == p2 and floor2 == n2:\n",
    "        return getentranceandfloor (k1, flatsonfloor, m)\n",
    "    return -1, -1\n",
    "\n",
    "def slow(k1, m, k2, p2, n2):\n",
    "    ent = -1\n",
    "    floor = -1\n",
    "    goodflag = False\n",
    "    for flatsonfloor in range (1, maxrandval + 1):\n",
    "        nent, nfloor = check (k1, m, k2, p2, n2, flatsonfloor)\n",
    "    if nent != -1:\n",
    "        goodflag = True\n",
    "        if ent == -1:\n",
    "            ent, floor = nent, nfloor\n",
    "        elif ent != nent and ent != 0:\n",
    "            ent = 0\n",
    "        elif floor != nfloor and floor != 0:\n",
    "            floor = 0\n",
    "    if goodflag:\n",
    "        return (ent, floor)\n",
    "    else:\n",
    "        return (-1, -1)\n",
    "\n",
    "def fast(k1, m, k2, p2, n2):\n",
    "    f2 = (p2-1) * m + n2\n",
    "    if f2 ==1:\n",
    "        if k1 <= k2:\n",
    "            return (1, 1)\n",
    "        elif m == 1:\n",
    "            return (0, 1)\n",
    "        else:\n",
    "            return (0, 0)\n",
    "    else:\n",
    "        onfmax = (k2 + f2 -2) // (f2 - 1) - 1\n",
    "        onfmin = (k2 + f2 -1) // f2\n",
    "        if onfmax < onfmin:\n",
    "            return (-1, -1)\n",
    "        else:\n",
    "            f1min = (k1 - 1) // onfmax + 1\n",
    "            f1max = (k1 - 1) // onfmin + 1\n",
    "            p1min = (f1min - 1) // m + 1\n",
    "            p1max = (f1max - 1) // m + 1\n",
    "            n1min = (f1min - 1) % m + 1\n",
    "            n1max = (f1max - 1) % m + 1\n",
    "            if p1min == p1max and n1min == n1max:\n",
    "                return (p1min, n1min)\n",
    "            elif p1min == p1max:\n",
    "                return (p1min, 0)\n",
    "            elif n1min == n1max:\n",
    "                return (0, n1min)\n",
    "            \n",
    "#create test for checking\n",
    "maxrandval = 10\n",
    "while True:\n",
    "    randvals = [random.randint(1, maxrandval) for _ in range(5)]\n",
    "    slowans = slow(*randvals)\n",
    "    fastans = fast(*randvals)\n",
    "    print (*randvals)\n",
    "    if slowans == fastans:\n",
    "        print ('OK')\n",
    "    else:\n",
    "        print ('WA', fastans, slowans)\n",
    "        break"
   ]
  },
  {
   "cell_type": "code",
   "execution_count": 5,
   "metadata": {},
   "outputs": [
    {
     "data": {
      "text/plain": [
       "(-1, -1)"
      ]
     },
     "execution_count": 5,
     "metadata": {},
     "output_type": "execute_result"
    }
   ],
   "source": [
    "#task E for giving in\n",
    "\n",
    "def fast(k1, m, k2, p2, n2):\n",
    "    f2 = (p2-1) * m + n2 # how many floors there before ours\n",
    "    if f2 ==1:\n",
    "        if k1 <= k2:\n",
    "            print (1, 1)\n",
    "        elif m == 1:\n",
    "            print (0, 1)\n",
    "        else:\n",
    "            print (0, 0)\n",
    "    else:\n",
    "        onfmax = (k2 + f2 -2) // (f2 - 1) - 1\n",
    "        onfmin = (k2 + f2 -1) // f2\n",
    "        if onfmax < onfmin:\n",
    "            print (-1, -1)\n",
    "        else:\n",
    "            f1min = (k1 - 1) // onfmax + 1\n",
    "            f1max = (k1 - 1) // onfmin + 1\n",
    "            p1min = (f1min - 1) // m + 1\n",
    "            p1max = (f1max - 1) // m + 1\n",
    "            n1min = (f1min - 1) % m + 1\n",
    "            n1max = (f1max - 1) % m + 1\n",
    "            if p1min == p1max and n1min == n1max:\n",
    "                print(p1min, n1min)\n",
    "            elif p1min == p1max:\n",
    "                print(p1min, 0)\n",
    "            elif n1min == n1max:\n",
    "                print(0, n1min)\n",
    "\n",
    "variables = input().split()\n",
    "variables = map(int, variables)\n",
    "\n",
    "fast(*variables)\n",
    "# 80 81 74 59 53"
   ]
  },
  {
   "cell_type": "code",
   "execution_count": 22,
   "metadata": {},
   "outputs": [
    {
     "name": "stdout",
     "output_type": "stream",
     "text": [
      "[5, 691, 481, 304]\n",
      "['square1', 478595]\n",
      "[47, 874, 654, 999]\n",
      "['square1', 1526472]\n",
      "[547, 687, 901, 139]\n",
      "['square1', 744226]\n",
      "[732, 385, 4, 35]\n",
      "['square1', 283360]\n",
      "[690, 629, 998, 51]\n",
      "['square1', 739518]\n",
      "[377, 353, 491, 290]\n",
      "['square1', 327497]\n",
      "[714, 730, 571, 529]\n",
      "['square1', 898926]\n",
      "[281, 867, 8, 343]\n",
      "['square1', 300125]\n",
      "[983, 958, 201, 204]\n",
      "['square1', 1134272]\n",
      "[650, 116, 277, 448]\n",
      "['square1', 415296]\n"
     ]
    }
   ],
   "source": [
    "#Task F Laptops\n",
    "# we need to get the appropriate size of the table with the least square\n",
    "import random\n",
    "\"\"\"\"\n",
    "nums = input().split() #we get the sizes of the laptops\n",
    "laptop1 = [int(nums[0]), int(nums[1])]\n",
    "laptop2 = [int(nums[2]), int(nums[3])]\n",
    "\"\"\"\n",
    "\n",
    "def table1 (laptop1, laptop2):\n",
    "    table_length1 = max(laptop1) + min(laptop2)\n",
    "    table_width1 = max(min(laptop1), max(laptop2))\n",
    "    square1 = table_length1 * table_width1\n",
    "    return square1\n",
    "\n",
    "def table2 (laptop1, laptop2):\n",
    "    table_length2 = min(laptop1) + min(laptop2)\n",
    "    table_width2 = max (max(laptop1), max(laptop2))\n",
    "    square2 = table_length2 * table_width2\n",
    "    return square2\n",
    "\n",
    "def table3 (laptop1, laptop2):\n",
    "    table_length3 = max(laptop1) + max(laptop2)\n",
    "    table_width3 = max(min(laptop1), min(laptop2))\n",
    "    square3 = table_length3 * table_width3\n",
    "    return square3\n",
    "\n",
    "def table4 (laptop1, laptop2):\n",
    "    table_length4 = max(laptop1) + min(laptop2)\n",
    "    table_width4 = min(laptop1) + max(laptop2)\n",
    "    square4 = table_length4 * table_width4\n",
    "    return square4\n",
    "\"\"\"\"\n",
    "if min(square1, square2, square3) == square1:\n",
    "    print (table_length1, table_width1)\n",
    "elif min(square1, square2, square3) == square2:\n",
    "    print (table_length2, table_width2)\n",
    "elif min(square1, square2, square3):\n",
    "\tprint (table_length3, table_width3)\n",
    "else:\n",
    "    print (table_length4, table_length4)\n",
    "\"\"\"\n",
    "\n",
    "# checking\n",
    "maxrandval = 1000\n",
    "for i in range(10):\n",
    "    randvals = [random.randint(1, maxrandval) for _ in range(4)]\n",
    "    print (randvals)\n",
    "    laptop1 = [int(randvals[0]), int(randvals[1])]\n",
    "    laptop2 = [int(randvals[2]), int(randvals[3])]\n",
    "    square1 = ['square1', table1(laptop1, laptop2)]\n",
    "    square2 = ['square2', table2(laptop1, laptop2)]\n",
    "    square3 = ['square3', table3(laptop1, laptop2)]\n",
    "    square4 = ['square4', table4(laptop1, laptop2)]\n",
    "    print (min(square1, square2, square3, square4))"
   ]
  },
  {
   "cell_type": "code",
   "execution_count": 23,
   "metadata": {},
   "outputs": [
    {
     "name": "stdout",
     "output_type": "stream",
     "text": [
      "3 2\n"
     ]
    }
   ],
   "source": [
    "#Task F Laptops\n",
    "\n",
    "nums = input().split() #we get the sizes of the laptops\n",
    "laptop1 = [int(nums[0]), int(nums[1])]\n",
    "laptop2 = [int(nums[2]), int(nums[3])]\n",
    "\n",
    "table_length1 = max(laptop1) + min(laptop2)\n",
    "table_width1 = max(min(laptop1), max(laptop2))\n",
    "square1 = table_length1 * table_width1\n",
    "\n",
    "table_length2 = min(laptop1) + min(laptop2)\n",
    "table_width2 = max (max(laptop1), max(laptop2))\n",
    "square2 = table_length2 * table_width2\n",
    "\n",
    "table_length3 = max(laptop1) + max(laptop2)\n",
    "table_width3 = max(min(laptop1), min(laptop2))\n",
    "square3 = table_length3 * table_width3\n",
    "\n",
    "table_length4 = max(laptop1) + min(laptop2)\n",
    "table_width4 = min(laptop1) + max(laptop2)\n",
    "square4 = table_length4 * table_width4\n",
    "\t\n",
    "if min(square1, square2, square3) == square1:\n",
    "    print (table_length1, table_width1)\n",
    "elif min(square1, square2, square3) == square2:\n",
    "    print (table_length2, table_width2)\n",
    "elif min(square1, square2, square3):\n",
    "\tprint (table_length3, table_width3)\n",
    "else:\n",
    "    print (table_length4, table_length4)"
   ]
  },
  {
   "cell_type": "code",
   "execution_count": 10,
   "metadata": {},
   "outputs": [
    {
     "name": "stdout",
     "output_type": "stream",
     "text": [
      "-1\n"
     ]
    }
   ],
   "source": [
    "#Task H Tube\n",
    "\n",
    "a = int(input()) #interval between the trains on 1 track\n",
    "b = int(input()) #interval between the trains on 2 track\n",
    "\n",
    "n = int(input()) #how many trains Tanya saw on 1 track\n",
    "m = int(input()) #how many trains Tanya saw on 2 track\n",
    "\n",
    "#give min and max time that Tanya could stand on the platform and count trains\n",
    "\n",
    "min1 = a*(n-1) + n\n",
    "max1 = min1 + 2*a\n",
    "min2 = b*(m-1) + m\n",
    "max2 = min2 + 2*b\n",
    "\n",
    "if max(min1, min2) > min(max1, max2):\n",
    "    print ('-1')\n",
    "else:\n",
    "    print (max(min1, min2), min(max1, max2))"
   ]
  },
  {
   "cell_type": "code",
   "execution_count": 8,
   "metadata": {},
   "outputs": [
    {
     "name": "stdout",
     "output_type": "stream",
     "text": [
      "NO\n"
     ]
    }
   ],
   "source": [
    "#Task I If Castle\n",
    "\n",
    "#we get three sides of the block\n",
    "a = int(input()) \n",
    "b = int(input()) \n",
    "c = int(input())\n",
    "\n",
    "#we get two sides of the hole in a wall\n",
    "d = int(input()) \n",
    "e = int(input())\n",
    "\n",
    "#check if we can pull the block through the hole\n",
    "\n",
    "if min(a,b,c) <= min (d,e):\n",
    "    if (sum([a,b,c]) - min (a,b,c) - max (a,b,c)) <= max (d,e):\n",
    "        print ('YES')\n",
    "    else:\n",
    "        print ('NO')\n",
    "else:\n",
    "    print ('NO')"
   ]
  }
 ],
 "metadata": {
  "kernelspec": {
   "display_name": "base",
   "language": "python",
   "name": "python3"
  },
  "language_info": {
   "codemirror_mode": {
    "name": "ipython",
    "version": 3
   },
   "file_extension": ".py",
   "mimetype": "text/x-python",
   "name": "python",
   "nbconvert_exporter": "python",
   "pygments_lexer": "ipython3",
   "version": "3.9.13"
  },
  "orig_nbformat": 4,
  "vscode": {
   "interpreter": {
    "hash": "3cf6b8e34001253d8c16bc3eea328ade81b64a1fec978b8d410f0819d9cba9da"
   }
  }
 },
 "nbformat": 4,
 "nbformat_minor": 2
}
