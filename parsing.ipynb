{
 "cells": [
  {
   "cell_type": "code",
   "execution_count": 113,
   "metadata": {},
   "outputs": [],
   "source": [
    "class Fic:\n",
    "    all_fics = []\n",
    "    all_tags = []\n",
    "\n",
    "    def __init__(self, name, author):\n",
    "        self.name = name\n",
    "        self.author = author\n",
    "        self.tag = None\n",
    "        self.fic_tags = None\n",
    "        self.words = 0\n",
    "        self.kudos = 0\n",
    "        self.bookmarks = 0\n",
    "        self.date = None\n",
    "        Fic.all_fics.append(self)\n",
    "\n",
    "    def set_tags(self, tag):\n",
    "        self.fic_tags = tag.split(', ')\n",
    "        for item in self.fic_tags:\n",
    "            Fic.all_tags.append(item)\n",
    "\n",
    "    def set_words(self, words):\n",
    "        self.words = words\n",
    "\n",
    "    def set_kudos(self, kudos):\n",
    "        self.kudos = kudos\n",
    "\n",
    "    def set_bookmarks(self, bookmarks):\n",
    "        self.bookmarks = bookmarks\n",
    "\n",
    "    def set_date(self, date):\n",
    "        self.date = date\n",
    "\n",
    "    def get_info(self):\n",
    "        print(self.name, 'by', self.author)\n",
    "        print('\\t', self.fic_tags)\n",
    "        print('\\t', self.words, 'words')\n",
    "        print('\\t', self.kudos, 'kudos')\n",
    "        print('\\t', self.bookmarks, 'bookmarks')\n",
    "        print('\\t', self.date)"
   ]
  },
  {
   "cell_type": "code",
   "execution_count": 114,
   "metadata": {},
   "outputs": [],
   "source": [
    "lonely = Fic(\"so, you've been feeling lonely\", \"rabbitinrain\")\n",
    "lonely.set_tags(\"Hua Cheng and Yushi Huan, Hua Cheng/Xie Lian, AU Science Fiction, AU Space\")\n",
    "lonely.set_words(3546)\n",
    "lonely.set_kudos(85)\n",
    "lonely.set_bookmarks(20)\n",
    "lonely.set_date('09/12/21')"
   ]
  },
  {
   "cell_type": "code",
   "execution_count": 115,
   "metadata": {},
   "outputs": [],
   "source": [
    "cheerleader = Fic(\"But I'm A Cheerleader\", \"woofmeow\")\n",
    "cheerleader.set_tags(\"Feng Xin/Mu Qing, AU High School, Fluff, Angst\")\n",
    "cheerleader.set_words(13620)\n",
    "cheerleader.set_kudos(2170)\n",
    "cheerleader.set_bookmarks(426)\n",
    "cheerleader.set_date('16/11/20')"
   ]
  },
  {
   "cell_type": "code",
   "execution_count": 116,
   "metadata": {},
   "outputs": [],
   "source": [
    "robes = Fic(\"Husband Robes\", \"Linisen\")\n",
    "robes.set_tags(\"Hua Cheng/Xie Lian\")\n",
    "robes.set_words(1060)\n",
    "robes.set_kudos(1692)\n",
    "robes.set_bookmarks(197)\n",
    "robes.set_date('13/03/21')"
   ]
  },
  {
   "cell_type": "code",
   "execution_count": 117,
   "metadata": {},
   "outputs": [],
   "source": [
    "course = Fic(\"Scamming into a Course for Simp Reasons\", \"Linisen\")\n",
    "course.set_tags(\"Hua Cheng/Xie Lian, AU Modern Setting, AU College/University, Fluff\")\n",
    "course.set_words(6256)\n",
    "course.set_kudos(1352)\n",
    "course.set_bookmarks(196)\n",
    "course.set_date('15/12/21')"
   ]
  },
  {
   "cell_type": "code",
   "execution_count": 118,
   "metadata": {},
   "outputs": [],
   "source": [
    "boxers = Fic(\"Butterfly Boxers\", \"Linisen\")\n",
    "boxers.set_tags(\"Hua Cheng/Xie Lian, AU Modern Setting, Fluff\")\n",
    "boxers.set_words(7475)\n",
    "boxers.set_kudos(1731)\n",
    "boxers.set_bookmarks(220)\n",
    "boxers.set_date('26/04/21')"
   ]
  },
  {
   "cell_type": "code",
   "execution_count": 119,
   "metadata": {},
   "outputs": [],
   "source": [
    "wedding = Fic(\"bloodsoaked wedding\", \"Linisen\")\n",
    "wedding.set_tags(\"Hua Cheng/Xie Lian, Alpha/Beta/Omega Dynamics, Arranged Marriage\")\n",
    "wedding.set_words(6021)\n",
    "wedding.set_kudos(2771)\n",
    "wedding.set_bookmarks(358)\n",
    "wedding.set_date('15/05/22')"
   ]
  },
  {
   "cell_type": "code",
   "execution_count": 120,
   "metadata": {},
   "outputs": [],
   "source": [
    "husband = Fic(\"Three Day Fake Husband\", \"Linisen\")\n",
    "husband.set_tags(\"Hua Cheng/Xie Lian, AU Modern Setting, Friends to Lovers, Fake/Pretend Relationship\")\n",
    "husband.set_words(24292)\n",
    "husband.set_kudos(2498)\n",
    "husband.set_bookmarks(487)\n",
    "husband.set_date('14/10/21')"
   ]
  },
  {
   "cell_type": "code",
   "execution_count": 121,
   "metadata": {},
   "outputs": [
    {
     "name": "stdout",
     "output_type": "stream",
     "text": [
      "so, you've been feeling lonely by rabbitinrain\n",
      "\t ['Hua Cheng and Yushi Huan', 'Hua Cheng/Xie Lian', 'AU Science Fiction', 'AU Space']\n",
      "\t 3546 words\n",
      "\t 85 kudos\n",
      "\t 20 bookmarks\n",
      "\t 09/12/21\n",
      "But I'm A Cheerleader by woofmeow\n",
      "\t ['Feng Xin/Mu Qing', 'AU High School', 'Fluff', 'Angst']\n",
      "\t 13620 words\n",
      "\t 2170 kudos\n",
      "\t 426 bookmarks\n",
      "\t 16/11/20\n",
      "Husband Robes by Linisen\n",
      "\t ['Hua Cheng/Xie Lian']\n",
      "\t 1060 words\n",
      "\t 1692 kudos\n",
      "\t 197 bookmarks\n",
      "\t 13/03/21\n",
      "Scamming into a Course for Simp Reasons by Linisen\n",
      "\t ['Hua Cheng/Xie Lian', 'AU Modern Setting', 'AU College/University', 'Fluff']\n",
      "\t 6256 words\n",
      "\t 1352 kudos\n",
      "\t 196 bookmarks\n",
      "\t 15/12/21\n",
      "Butterfly Boxers by Linisen\n",
      "\t ['Hua Cheng/Xie Lian', 'AU Modern Setting', 'Fluff']\n",
      "\t 7475 words\n",
      "\t 1731 kudos\n",
      "\t 220 bookmarks\n",
      "\t 26/04/21\n",
      "bloodsoaked wedding by Linisen\n",
      "\t ['Hua Cheng/Xie Lian', 'Alpha/Beta/Omega Dynamics', 'Arranged Marriage']\n",
      "\t 6021 words\n",
      "\t 2771 kudos\n",
      "\t 358 bookmarks\n",
      "\t 15/05/22\n",
      "Three Day Fake Husband by Linisen\n",
      "\t ['Hua Cheng/Xie Lian', 'AU Modern Setting', 'Friends to Lovers', 'Fake/Pretend Relationship']\n",
      "\t 24292 words\n",
      "\t 2498 kudos\n",
      "\t 487 bookmarks\n",
      "\t 14/10/21\n"
     ]
    }
   ],
   "source": [
    "for item in Fic.all_fics:\n",
    "    item.get_info()"
   ]
  }
 ],
 "metadata": {
  "kernelspec": {
   "display_name": "base",
   "language": "python",
   "name": "python3"
  },
  "language_info": {
   "codemirror_mode": {
    "name": "ipython",
    "version": 3
   },
   "file_extension": ".py",
   "mimetype": "text/x-python",
   "name": "python",
   "nbconvert_exporter": "python",
   "pygments_lexer": "ipython3",
   "version": "3.9.13"
  }
 },
 "nbformat": 4,
 "nbformat_minor": 2
}
